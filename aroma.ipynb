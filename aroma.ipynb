{
  "cells": [
    {
      "attachments": {},
      "cell_type": "markdown",
      "metadata": {
        "id": "b02NcFFvZSzp"
      },
      "source": [
        "# Aroma Notebook for Colab"
      ]
    },
    {
      "attachments": {},
      "cell_type": "markdown",
      "metadata": {
        "id": "vhzm6vRffpvW"
      },
      "source": [
        "## Config"
      ]
    },
    {
      "cell_type": "code",
      "execution_count": null,
      "metadata": {
        "id": "YnCBTKJGfC3M"
      },
      "outputs": [],
      "source": [
        "#@title Configurations\n",
        "\n",
        "#@markdown Aroma Repository\n",
        "repo_url = 'https://github.com/lumiknit/aroma' #@param {type:\"string\"}\n",
        "\n",
        "#@markdown Huggingface model repo & comma-separated ignore list\n",
        "hf_model_repo = 'lumiknit/diffusers-model-archive' #@param {type:\"string\"}\n",
        "\n",
        "#@markdown WebUI Basic Auth Info\n",
        "#@markdown Note that the length of password **MUST BE** at least 8.\n",
        "webui_username = '' #@param {type:\"string\"}\n",
        "webui_password = '' #@param {type:\"string\"}\n",
        "\n",
        "#@markdown Daemon password\n",
        "daemon_password = '' #@param {type:\"string\"}\n",
        "\n",
        "#@markdown **NOTE** To get ngrok token, visit https://dashboard.ngrok.com/get-started/your-authtoken for ngrok token\n",
        "ngrok_token = '' #@param {type:\"string\"}"
      ]
    },
    {
      "attachments": {},
      "cell_type": "markdown",
      "metadata": {
        "id": "AQH6Di7tZ6uv"
      },
      "source": [
        "## Setup"
      ]
    },
    {
      "cell_type": "code",
      "execution_count": null,
      "metadata": {
        "id": "ROvlDSxNndAc"
      },
      "outputs": [],
      "source": [
        "!rm -rf /ws"
      ]
    },
    {
      "cell_type": "code",
      "execution_count": null,
      "metadata": {
        "id": "pF2qcONHZwtC"
      },
      "outputs": [],
      "source": [
        "!curl -sL https://deb.nodesource.com/setup_18.x | sudo -E bash -\n",
        "!apt-get install -y jq nodejs\n",
        "!pip install pyngrok pytorch-lightning numpy pillow scipy ftfy transformers diffusers accelerate safetensors omegaconf huggingface_hub tensorrt"
      ]
    },
    {
      "cell_type": "code",
      "execution_count": null,
      "metadata": {
        "id": "NaSEiKc3ZVzd"
      },
      "outputs": [],
      "source": [
        "# Clone repo and setup\n",
        "%cd /\n",
        "!git clone $repo_url /ws/aroma\n",
        "%cd /ws/aroma\n",
        "!git lfs install\n",
        "!mkdir -p /ws/aroma/models /ws/aroma/archives /ws/aroma/outputs /ws/aroma/state"
      ]
    },
    {
      "cell_type": "code",
      "execution_count": null,
      "metadata": {
        "id": "7X_9mjequv2Q"
      },
      "outputs": [],
      "source": [
        "from huggingface_hub import snapshot_download\n",
        "snapshot_download(\n",
        "    repo_id=hf_model_repo,\n",
        "    allow_patterns=[\"textual_inversions/*\", \"anything-v4.5/*\"],\n",
        "    local_dir=\"/ws/aroma/models\")"
      ]
    },
    {
      "cell_type": "code",
      "execution_count": null,
      "metadata": {
        "id": "qOqPEJqqZj_D"
      },
      "outputs": [],
      "source": [
        "# Change host and port to 0.0.0.0:9125\n",
        "import json\n",
        "\n",
        "config = {\n",
        "    'webui': {\n",
        "        'host': '0.0.0.0',\n",
        "        'port': 9125,\n",
        "        'username': webui_username,\n",
        "        'password': webui_password,\n",
        "    },\n",
        "    'save_raw': False,\n",
        "    'password': daemon_password,\n",
        "    'init_values': {\n",
        "        'model': {\n",
        "            'path': \"anything-v4.5\"\n",
        "        },\n",
        "        'textual_inversions': [\n",
        "            #\"textual_inversions/EasyNegative.safetensors\",\n",
        "            \"textual_inversions/EasyNegativeV2.safetensors\",\n",
        "            \"textual_inversions/bad-picture-chill-75v.pt\",\n",
        "            \"textual_inversions/ng_deepnegative_v1_75t.pt\",\n",
        "            \"textual_inversions/realisticvision-negative-embedding.pt\",\n",
        "            \"textual_inversions/verybadimagenegative_v1.3.pt\",\n",
        "        ],\n",
        "        'params': {\n",
        "            \"prompt\": \"cat\",\n",
        "            \"negative_prompt\": \"EasyNegative, ng_deepnegative_v1_75t, veryBadImageNegative_v1.3, bad-picture-chill-75v, bad quality, low quality, bad anatomy, nsfw\",\n",
        "            'width': 512,\n",
        "            'height': 512,\n",
        "            \"highres_fix\": [\n",
        "                {\n",
        "                  \"width\": 768,\n",
        "                  \"height\": 768,\n",
        "                  \"strength\": 0.5\n",
        "                }\n",
        "            ]\n",
        "        }\n",
        "    }\n",
        "}\n",
        "config_json = json.dumps(config)\n",
        "\n",
        "!echo '{config_json}' > /ws/aroma/config.json\n",
        "!touch /ws/aroma/state/values.json"
      ]
    },
    {
      "cell_type": "code",
      "execution_count": null,
      "metadata": {
        "id": "GavewX-PaC6s"
      },
      "outputs": [],
      "source": [
        "# Install node packages\n",
        "!cd /ws/aroma/ui && npm install -g npm && npm install\n",
        "!node --version"
      ]
    },
    {
      "attachments": {},
      "cell_type": "markdown",
      "metadata": {
        "id": "lrNgPqqjb3k0"
      },
      "source": [
        "# Run"
      ]
    },
    {
      "cell_type": "code",
      "execution_count": null,
      "metadata": {
        "id": "qE42cBCDcyhT"
      },
      "outputs": [],
      "source": [
        "import os\n",
        "import threading\n",
        "from pyngrok import ngrok\n",
        "ngrok.set_auth_token(ngrok_token)\n",
        "public_url = ngrok.connect(9125, auth=f\"{webui_username}:{webui_password}\").public_url\n",
        "print(f\"{public_url}\")\n",
        "!node ui/main.js"
      ]
    }
  ],
  "metadata": {
    "accelerator": "GPU",
    "colab": {
      "provenance": []
    },
    "gpuClass": "standard",
    "kernelspec": {
      "display_name": "Python 3",
      "name": "python3"
    },
    "language_info": {
      "name": "python"
    }
  },
  "nbformat": 4,
  "nbformat_minor": 0
}
