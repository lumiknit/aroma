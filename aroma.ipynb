{
  "cells": [
    {
      "cell_type": "markdown",
      "metadata": {
        "id": "b02NcFFvZSzp"
      },
      "source": [
        "# Aroma Notebook for Colab"
      ]
    },
    {
      "cell_type": "markdown",
      "metadata": {
        "id": "vhzm6vRffpvW"
      },
      "source": [
        "## Config"
      ]
    },
    {
      "cell_type": "code",
      "execution_count": null,
      "metadata": {
        "id": "YnCBTKJGfC3M",
        "cellView": "form"
      },
      "outputs": [],
      "source": [
        "#@title Configurations\n",
        "\n",
        "\n",
        "\n",
        "#@markdown WebUI Basic Auth Info\n",
        "#@markdown Note that the length of password **MUST BE** at least 8.\n",
        "webui_username = 'asd' #@param {type:\"string\"}\n",
        "webui_password = 'asdasdas' #@param {type:\"string\"}\n",
        "\n",
        "#@markdown Daemon password\n",
        "daemon_password = 'as' #@param {type:\"string\"}\n",
        "\n",
        "#@markdown **NOTE** To get ngrok token, visit https://dashboard.ngrok.com/get-started/your-authtoken for ngrok token\n",
        "ngrok_token = '' #@param {type:\"string\"}\n",
        "\n",
        "#@markdown Aroma Repository\n",
        "repo_url = 'https://github.com/lumiknit/aroma' #@param {type:\"string\"}"
      ]
    },
    {
      "cell_type": "markdown",
      "metadata": {
        "id": "AQH6Di7tZ6uv"
      },
      "source": [
        "## Setup"
      ]
    },
    {
      "cell_type": "code",
      "execution_count": null,
      "metadata": {
        "id": "pF2qcONHZwtC"
      },
      "outputs": [],
      "source": [
        "!curl -sL https://deb.nodesource.com/setup_18.x | sudo -E bash -\n",
        "!apt-get install -y nodejs\n",
        "!pip install pyngrok pytorch-lightning numpy pillow scipy ftfy transformers diffusers accelerate safetensors omegaconf huggingface_hub tensorrt"
      ]
    },
    {
      "cell_type": "code",
      "execution_count": null,
      "metadata": {
        "id": "NaSEiKc3ZVzd"
      },
      "outputs": [],
      "source": [
        "# Clone repo and setup\n",
        "%cd /\n",
        "!rm -rf /ws\n",
        "!git clone $repo_url /ws/aroma\n",
        "%cd /ws/aroma\n",
        "!git lfs install\n",
        "!mkdir -p /ws/aroma/models /ws/aroma/archives /ws/aroma/outputs /ws/aroma/state"
      ]
    },
    {
      "cell_type": "code",
      "execution_count": null,
      "metadata": {
        "id": "qOqPEJqqZj_D"
      },
      "outputs": [],
      "source": [
        "# Change host and port to 0.0.0.0:9125\n",
        "import json\n",
        "\n",
        "config = {\n",
        "    'webui': {\n",
        "        'host': '0.0.0.0',\n",
        "        'port': 32191,\n",
        "        'username': webui_username,\n",
        "        'password': webui_password,\n",
        "        \"model_download_presets\": {\n",
        "            \"runwayml/stable-diffusion-v1-5\": [\"\"],\n",
        "        }\n",
        "    },\n",
        "    'save_raw': False,\n",
        "    'password': daemon_password,\n",
        "    'init_values': {\n",
        "        'params': {\n",
        "            \"prompt\": \"cat\",\n",
        "            \"negative_prompt\": \"EasyNegative, veryBadImageNegative_v1.3, bad quality, low quality, bad anatomy, nsfw\",\n",
        "            'width': 512,\n",
        "            'height': 512,\n",
        "            \"highres_fix\": [\n",
        "                {\n",
        "                  \"scale\": 1.5,\n",
        "                  \"strength\": 0.5\n",
        "                }\n",
        "            ]\n",
        "        }\n",
        "    }\n",
        "}\n",
        "config_json = json.dumps(config)\n",
        "\n",
        "!echo '{config_json}' > /ws/aroma/config.json\n",
        "!touch /ws/aroma/state/values.json"
      ]
    },
    {
      "cell_type": "code",
      "execution_count": null,
      "metadata": {
        "id": "GavewX-PaC6s"
      },
      "outputs": [],
      "source": [
        "# Install node packages\n",
        "!cd /ws/aroma/ui && npm install -g npm && npm install\n",
        "!node --version"
      ]
    },
    {
      "cell_type": "markdown",
      "metadata": {
        "id": "lrNgPqqjb3k0"
      },
      "source": [
        "# Run"
      ]
    },
    {
      "cell_type": "code",
      "execution_count": null,
      "metadata": {
        "id": "qE42cBCDcyhT"
      },
      "outputs": [],
      "source": [
        "import os\n",
        "import threading\n",
        "from pyngrok import ngrok\n",
        "ngrok.set_auth_token(ngrok_token)\n",
        "public_url = ngrok.connect(32191, auth=f\"{webui_username}:{webui_password}\").public_url\n",
        "print(f\"{public_url}\")\n",
        "!node ui/main.js"
      ]
    }
  ],
  "metadata": {
    "accelerator": "GPU",
    "colab": {
      "provenance": [],
      "collapsed_sections": [
        "AQH6Di7tZ6uv"
      ],
      "gpuType": "T4"
    },
    "gpuClass": "standard",
    "kernelspec": {
      "display_name": "Python 3",
      "name": "python3"
    },
    "language_info": {
      "name": "python"
    }
  },
  "nbformat": 4,
  "nbformat_minor": 0
}