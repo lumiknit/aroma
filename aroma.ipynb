{
  "cells": [
    {
      "attachments": {},
      "cell_type": "markdown",
      "metadata": {
        "id": "b02NcFFvZSzp"
      },
      "source": [
        "# Aroma Notebook for Colab"
      ]
    },
    {
      "attachments": {},
      "cell_type": "markdown",
      "metadata": {
        "id": "vhzm6vRffpvW"
      },
      "source": [
        "## Config"
      ]
    },
    {
      "cell_type": "code",
      "execution_count": null,
      "metadata": {
        "id": "YnCBTKJGfC3M"
      },
      "outputs": [],
      "source": [
        "#@title Configurations\n",
        "#@markdown https://dashboard.ngrok.com/get-started/your-authtoken for ngrok token\n",
        "\n",
        "repo_url = 'https://github.com/lumiknit/aroma' #@param {type:\"string\"}\n",
        "hf_model_repo = 'lumiknit/diffusers-model-archive' #@param {type:\"string\"}\n",
        "webui_username = 'asdf' #@param {type:\"string\"}\n",
        "webui_password = '1q2w3e4r' #@param {type:\"string\"}\n",
        "daemon_password = 'aroma1234' #@param {type:\"string\"}\n",
        "ngrok_token = '-' #@param {type:\"string\"}"
      ]
    },
    {
      "attachments": {},
      "cell_type": "markdown",
      "metadata": {
        "id": "AQH6Di7tZ6uv"
      },
      "source": [
        "## Setup"
      ]
    },
    {
      "cell_type": "code",
      "execution_count": null,
      "metadata": {
        "id": "ROvlDSxNndAc"
      },
      "outputs": [],
      "source": [
        "!rm -rf /ws"
      ]
    },
    {
      "cell_type": "code",
      "execution_count": null,
      "metadata": {
        "id": "pF2qcONHZwtC"
      },
      "outputs": [],
      "source": [
        "!curl -sL https://deb.nodesource.com/setup_18.x | sudo -E bash -\n",
        "!apt-get update && apt-get install -y jq nodejs\n",
        "!git lfs install\n",
        "!pip install pyngrok pytorch-lightning numpy pillow scipy ftfy transformers diffusers==0.16.1 accelerate==0.18.0 safetensors omegaconf huggingface_hub"
      ]
    },
    {
      "cell_type": "code",
      "execution_count": null,
      "metadata": {
        "id": "NaSEiKc3ZVzd"
      },
      "outputs": [],
      "source": [
        "# Clone repo and setup\n",
        "%cd /\n",
        "!git clone $repo_url /ws/aroma\n",
        "%cd /ws/aroma\n",
        "!git lfs install\n",
        "!mkdir -p /ws/aroma/models /ws/aroma/archives /ws/aroma/outputs /ws/aroma/state"
      ]
    },
    {
      "cell_type": "code",
      "execution_count": null,
      "metadata": {
        "id": "7X_9mjequv2Q"
      },
      "outputs": [],
      "source": [
        "from huggingface_hub import snapshot_download\n",
        "snapshot_download(repo_id=hf_model_repo, local_dir=\"/ws/aroma/models/a\")"
      ]
    },
    {
      "cell_type": "code",
      "execution_count": null,
      "metadata": {
        "id": "qOqPEJqqZj_D"
      },
      "outputs": [],
      "source": [
        "# Change host and port to 0.0.0.0:9125\n",
        "import json\n",
        "\n",
        "config = {\n",
        "    'webui': {\n",
        "        'host': '0.0.0.0',\n",
        "        'port': 9125,\n",
        "        'username': webui_username,\n",
        "        'password': webui_password,\n",
        "    },\n",
        "    'save_raw': False,\n",
        "    'password': daemon_password,\n",
        "    'init_values': {\n",
        "        'model': {\n",
        "            'path': \"a/anything-v4.5\"\n",
        "        },\n",
        "        'textual_inversions': [\n",
        "            #\"a/textual_inversions/EasyNegative.safetensors\",\n",
        "            \"a/textual_inversions/EasyNegativeV2.safetensors\",\n",
        "            #\"a/textual_inversions/bad-picture-chill-75v.pt\",\n",
        "            #\"a/textual_inversions/ng_deepnegative_v1_75t.pt\",\n",
        "            #\"a/textual_inversions/realisticvision-negative-embedding.pt\",\n",
        "            #\"a/textual_inversions/verybadimagenegative_v1.3.pt\",\n",
        "        ]\n",
        "    }\n",
        "}\n",
        "config_json = json.dumps(config)\n",
        "\n",
        "!echo '{config_json}' > /ws/aroma/config.json\n",
        "!cp /ws/aroma/daemon/run_without_activate.sh /ws/aroma/daemon/run.sh\n",
        "!touch /ws/aroma/state/values.json"
      ]
    },
    {
      "cell_type": "code",
      "execution_count": null,
      "metadata": {
        "id": "GavewX-PaC6s"
      },
      "outputs": [],
      "source": [
        "# Install node packages\n",
        "!cd /ws/aroma/ui && npm install -g npm && npm install\n",
        "!node --version"
      ]
    },
    {
      "attachments": {},
      "cell_type": "markdown",
      "metadata": {
        "id": "lrNgPqqjb3k0"
      },
      "source": [
        "# Run"
      ]
    },
    {
      "cell_type": "code",
      "execution_count": null,
      "metadata": {
        "id": "qE42cBCDcyhT"
      },
      "outputs": [],
      "source": [
        "import os\n",
        "import threading\n",
        "from pyngrok import ngrok\n",
        "ngrok.set_auth_token(ngrok_token)\n",
        "public_url = ngrok.connect(9125, auth=f\"{webui_username}:{webui_password}\").public_url\n",
        "print(f\"{public_url}\")\n",
        "!node ui/main.js"
      ]
    }
  ],
  "metadata": {
    "accelerator": "GPU",
    "colab": {
      "provenance": []
    },
    "gpuClass": "standard",
    "kernelspec": {
      "display_name": "Python 3",
      "name": "python3"
    },
    "language_info": {
      "name": "python"
    }
  },
  "nbformat": 4,
  "nbformat_minor": 0
}
